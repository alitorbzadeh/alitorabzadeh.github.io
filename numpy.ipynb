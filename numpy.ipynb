{
  "nbformat": 4,
  "nbformat_minor": 0,
  "metadata": {
    "colab": {
      "name": "numpy.ipynb",
      "provenance": [],
      "authorship_tag": "ABX9TyMbFbgTTYetyj7l6Yi2vhja",
      "include_colab_link": true
    },
    "kernelspec": {
      "name": "python3",
      "display_name": "Python 3"
    },
    "language_info": {
      "name": "python"
    }
  },
  "cells": [
    {
      "cell_type": "markdown",
      "metadata": {
        "id": "view-in-github",
        "colab_type": "text"
      },
      "source": [
        "<a href=\"https://colab.research.google.com/github/alitorbzadeh/alitorabzadeh.github.io/blob/main/numpy.ipynb\" target=\"_parent\"><img src=\"https://colab.research.google.com/assets/colab-badge.svg\" alt=\"Open In Colab\"/></a>"
      ]
    },
    {
      "cell_type": "markdown",
      "source": [
        "# **Numpy pakage**"
      ],
      "metadata": {
        "id": "5dgEt6W3ZJv9"
      }
    },
    {
      "cell_type": "code",
      "execution_count": null,
      "metadata": {
        "id": "nZS2b-2-RDWO"
      },
      "outputs": [],
      "source": [
        "import numpy as np\n",
        "import matplotlib.pyplot as plt "
      ]
    },
    {
      "cell_type": "markdown",
      "source": [
        "# تولید آرایه "
      ],
      "metadata": {
        "id": "vIYPZQhWZsQt"
      }
    },
    {
      "cell_type": "code",
      "source": [
        "a=[1,2,3,4,5,6,7,8,9]\n",
        "a1=np.array(a)\n",
        "print(a1)"
      ],
      "metadata": {
        "colab": {
          "base_uri": "https://localhost:8080/"
        },
        "id": "TCSxKxjNZwvg",
        "outputId": "9907cade-27ec-48d8-a229-e5516890befc"
      },
      "execution_count": null,
      "outputs": [
        {
          "output_type": "stream",
          "name": "stdout",
          "text": [
            "[1 2 3 4 5 6 7 8 9]\n"
          ]
        }
      ]
    },
    {
      "cell_type": "markdown",
      "source": [
        "# عملیات چهارگانه بر روی ارایه ها"
      ],
      "metadata": {
        "id": "or95rK9taL9z"
      }
    },
    {
      "cell_type": "code",
      "source": [
        "w0=a1+10\n",
        "w1=a1*2\n",
        "w2=a1-1\n",
        "w3=a1/10\n",
        "print(w0)\n",
        "print(w1)\n",
        "print(w2)\n",
        "print(w3)"
      ],
      "metadata": {
        "colab": {
          "base_uri": "https://localhost:8080/"
        },
        "id": "FDsCb5-2aR97",
        "outputId": "c7e830b1-1adf-445b-a6b0-04bce517798e"
      },
      "execution_count": null,
      "outputs": [
        {
          "output_type": "stream",
          "name": "stdout",
          "text": [
            "[11 12 13 14 15 16 17 18 19]\n",
            "[ 2  4  6  8 10 12 14 16 18]\n",
            "[0 1 2 3 4 5 6 7 8]\n",
            "[0.1 0.2 0.3 0.4 0.5 0.6 0.7 0.8 0.9]\n"
          ]
        }
      ]
    },
    {
      "cell_type": "markdown",
      "source": [
        "# شکل آرایه ها"
      ],
      "metadata": {
        "id": "GaY7UO8zduf8"
      }
    },
    {
      "cell_type": "code",
      "source": [
        "print(w3.dtype)\n",
        "print(w3.shape)"
      ],
      "metadata": {
        "colab": {
          "base_uri": "https://localhost:8080/"
        },
        "id": "_BQn7S_mduJc",
        "outputId": "7b520db9-6471-483d-fdc4-530f301adfe8"
      },
      "execution_count": null,
      "outputs": [
        {
          "output_type": "stream",
          "name": "stdout",
          "text": [
            "float64\n",
            "(9,)\n"
          ]
        }
      ]
    },
    {
      "cell_type": "markdown",
      "source": [
        "# آرایه دوبعدی و بیشتر"
      ],
      "metadata": {
        "id": "BowlT7gieYu9"
      }
    },
    {
      "cell_type": "code",
      "source": [
        "q=np.array([\n",
        "            [1,2,3,3,4,5]\n",
        "            ,[1,2,3,4,5,6]\n",
        "            ,[1,2,3,4,5,0.6]\n",
        "])\n",
        "q1=q[0:3,:]\n",
        "print(q1)\n",
        "print(q.shape)\n",
        "print(q.dtype)\n",
        "q1.itemsize"
      ],
      "metadata": {
        "colab": {
          "base_uri": "https://localhost:8080/"
        },
        "id": "_JqgaW88ecr9",
        "outputId": "388975a0-c433-47b3-b7fc-386b11362890"
      },
      "execution_count": null,
      "outputs": [
        {
          "output_type": "stream",
          "name": "stdout",
          "text": [
            "[[1.  2.  3.  3.  4.  5. ]\n",
            " [1.  2.  3.  4.  5.  6. ]\n",
            " [1.  2.  3.  4.  5.  0.6]]\n",
            "(3, 6)\n",
            "float64\n"
          ]
        },
        {
          "output_type": "execute_result",
          "data": {
            "text/plain": [
              "8"
            ]
          },
          "metadata": {},
          "execution_count": 5
        }
      ]
    },
    {
      "cell_type": "markdown",
      "source": [
        "# تولید ماتریس صفر و ماریس یک"
      ],
      "metadata": {
        "id": "XS5ZjZpYgWqs"
      }
    },
    {
      "cell_type": "code",
      "source": [
        "b=np.ones((3,3),np.float64)\n",
        "p=np.zeros((4,4),np.int64)\n",
        "print(b)\n",
        "print(p)"
      ],
      "metadata": {
        "colab": {
          "base_uri": "https://localhost:8080/"
        },
        "id": "U8Zt1eMQk1sj",
        "outputId": "abab2813-17c9-45ff-9ad1-4415b09e0ced"
      },
      "execution_count": null,
      "outputs": [
        {
          "output_type": "stream",
          "name": "stdout",
          "text": [
            "[[1. 1. 1.]\n",
            " [1. 1. 1.]\n",
            " [1. 1. 1.]]\n",
            "[[0 0 0 0]\n",
            " [0 0 0 0]\n",
            " [0 0 0 0]\n",
            " [0 0 0 0]]\n"
          ]
        }
      ]
    },
    {
      "cell_type": "markdown",
      "source": [
        "# تغییر سایز آرایه ها"
      ],
      "metadata": {
        "id": "M4UMLnZlmP0E"
      }
    },
    {
      "cell_type": "code",
      "source": [
        "q=np.array([\n",
        "            [1,2,3,3,4,5]\n",
        "            ,[1,2,3,4,5,6]\n",
        "            ,[1,2,3,4,5,0.6]\n",
        "])\n",
        "q0=q.reshape(6,3)\n",
        "print(q)\n",
        "print(q0)\n",
        "e=q.shape\n",
        "e[0]\n",
        "e2=list(q.flat)\n",
        "print(e2)"
      ],
      "metadata": {
        "colab": {
          "base_uri": "https://localhost:8080/"
        },
        "id": "dFisH3admT1L",
        "outputId": "ffc63bc9-a93a-46ab-dd16-8adb5b694b23"
      },
      "execution_count": null,
      "outputs": [
        {
          "output_type": "stream",
          "name": "stdout",
          "text": [
            "[[1.  2.  3.  3.  4.  5. ]\n",
            " [1.  2.  3.  4.  5.  6. ]\n",
            " [1.  2.  3.  4.  5.  0.6]]\n",
            "[[1.  2.  3. ]\n",
            " [3.  4.  5. ]\n",
            " [1.  2.  3. ]\n",
            " [4.  5.  6. ]\n",
            " [1.  2.  3. ]\n",
            " [4.  5.  0.6]]\n",
            "[1.0, 2.0, 3.0, 3.0, 4.0, 5.0, 1.0, 2.0, 3.0, 4.0, 5.0, 6.0, 1.0, 2.0, 3.0, 4.0, 5.0, 0.6]\n"
          ]
        }
      ]
    },
    {
      "cell_type": "markdown",
      "source": [
        "# الحاق کردن دو ماتریس به یکدیگر"
      ],
      "metadata": {
        "id": "FbyZeyBrnLOz"
      }
    },
    {
      "cell_type": "code",
      "source": [
        "a0=np.array([ [1,2,3,4,5,6,7,8],\n",
        "             [9,10,11,12,13,14,15,16],\n",
        "             [17,18,19,20,21,22,23,24]\n",
        "])\n",
        "b0=np.array([ [1,2,3,4,5,6,7,8],\n",
        "             [9,10,11,12,13,14,15,16],\n",
        "             [17,18,19,20,21,22,23,24]\n",
        "])\n",
        "c0=np.vstack((a0,b0))\n",
        "c1=np.hstack((a0,b0))\n",
        "c2=list(c1.flat)\n",
        "c3=np.concatenate((a0,b0),axis=1)\n",
        "c4=np.concatenate((a0,b0),axis=0)\n",
        "print(a0)\n",
        "print(\"---------------------------------\")\n",
        "print(c0)\n",
        "print(\"---------------------------------\")\n",
        "print(c1)\n",
        "print(\"---------------------------------\")\n",
        "print(c2)\n",
        "print(\"----------------------------------\")\n",
        "print(c3)\n",
        "print(\"-----------------------------------\")\n",
        "print(c4)"
      ],
      "metadata": {
        "colab": {
          "base_uri": "https://localhost:8080/"
        },
        "id": "owRwq4Hmo-0r",
        "outputId": "3c057215-09ae-4536-8f23-f40749af723b"
      },
      "execution_count": null,
      "outputs": [
        {
          "output_type": "stream",
          "name": "stdout",
          "text": [
            "[[ 1  2  3  4  5  6  7  8]\n",
            " [ 9 10 11 12 13 14 15 16]\n",
            " [17 18 19 20 21 22 23 24]]\n",
            "---------------------------------\n",
            "[[ 1  2  3  4  5  6  7  8]\n",
            " [ 9 10 11 12 13 14 15 16]\n",
            " [17 18 19 20 21 22 23 24]\n",
            " [ 1  2  3  4  5  6  7  8]\n",
            " [ 9 10 11 12 13 14 15 16]\n",
            " [17 18 19 20 21 22 23 24]]\n",
            "---------------------------------\n",
            "[[ 1  2  3  4  5  6  7  8  1  2  3  4  5  6  7  8]\n",
            " [ 9 10 11 12 13 14 15 16  9 10 11 12 13 14 15 16]\n",
            " [17 18 19 20 21 22 23 24 17 18 19 20 21 22 23 24]]\n",
            "---------------------------------\n",
            "[1, 2, 3, 4, 5, 6, 7, 8, 1, 2, 3, 4, 5, 6, 7, 8, 9, 10, 11, 12, 13, 14, 15, 16, 9, 10, 11, 12, 13, 14, 15, 16, 17, 18, 19, 20, 21, 22, 23, 24, 17, 18, 19, 20, 21, 22, 23, 24]\n",
            "----------------------------------\n",
            "[[ 1  2  3  4  5  6  7  8  1  2  3  4  5  6  7  8]\n",
            " [ 9 10 11 12 13 14 15 16  9 10 11 12 13 14 15 16]\n",
            " [17 18 19 20 21 22 23 24 17 18 19 20 21 22 23 24]]\n",
            "-----------------------------------\n",
            "[[ 1  2  3  4  5  6  7  8]\n",
            " [ 9 10 11 12 13 14 15 16]\n",
            " [17 18 19 20 21 22 23 24]\n",
            " [ 1  2  3  4  5  6  7  8]\n",
            " [ 9 10 11 12 13 14 15 16]\n",
            " [17 18 19 20 21 22 23 24]]\n"
          ]
        }
      ]
    },
    {
      "cell_type": "markdown",
      "source": [
        "# تقسیم آرایه"
      ],
      "metadata": {
        "id": "vtKpIW0QojMV"
      }
    },
    {
      "cell_type": "code",
      "source": [
        "a0=np.array([ [1,2,3,4,5,6,7,8],\n",
        "             [9,10,11,12,13,14,15,16],\n",
        "             [17,18,19,20,21,22,23,24]])\n",
        "e0=np.hsplit(a0,2)\n",
        "e1=np.vsplit(a0,3)\n",
        "print(a0)\n",
        "print(\"---------------------------------\")\n",
        "print(e0)\n",
        "print(\"---------------------------------\")\n",
        "print(e1)\n",
        "e1[1]"
      ],
      "metadata": {
        "colab": {
          "base_uri": "https://localhost:8080/"
        },
        "id": "KGO9yR3eq9iw",
        "outputId": "defd3f81-591d-4288-cf31-509df6ccbd13"
      },
      "execution_count": null,
      "outputs": [
        {
          "output_type": "stream",
          "name": "stdout",
          "text": [
            "[[ 1  2  3  4  5  6  7  8]\n",
            " [ 9 10 11 12 13 14 15 16]\n",
            " [17 18 19 20 21 22 23 24]]\n",
            "---------------------------------\n",
            "[array([[ 1,  2,  3,  4],\n",
            "       [ 9, 10, 11, 12],\n",
            "       [17, 18, 19, 20]]), array([[ 5,  6,  7,  8],\n",
            "       [13, 14, 15, 16],\n",
            "       [21, 22, 23, 24]])]\n",
            "---------------------------------\n",
            "[array([[1, 2, 3, 4, 5, 6, 7, 8]]), array([[ 9, 10, 11, 12, 13, 14, 15, 16]]), array([[17, 18, 19, 20, 21, 22, 23, 24]])]\n"
          ]
        },
        {
          "output_type": "execute_result",
          "data": {
            "text/plain": [
              "array([[ 9, 10, 11, 12, 13, 14, 15, 16]])"
            ]
          },
          "metadata": {},
          "execution_count": 21
        }
      ]
    },
    {
      "cell_type": "markdown",
      "source": [
        "# پیمایش"
      ],
      "metadata": {
        "id": "YZyQLtBwodDs"
      }
    },
    {
      "cell_type": "code",
      "source": [
        "a0=np.array([ [1,2,3,4,5,6,7,8],\n",
        "             [9,10,11,12,13,14,15,16],\n",
        "             [17,18,19,20,21,22,23,24]])\n",
        "a=a0.shape\n",
        "a1=np.ones(a,np.int8)\n",
        "print(a1)\n",
        "print(type(a1))\n",
        "for i0 in a0:\n",
        "  for i1 in i0:\n",
        "    s=i1\n",
        "    s=s*2\n",
        "    print(s)\n",
        "\n",
        "for x in np.nditer(a0):\n",
        "  print(x)\n",
        "  "
      ],
      "metadata": {
        "colab": {
          "base_uri": "https://localhost:8080/"
        },
        "id": "lp4h4bq4s4ZD",
        "outputId": "07d96bed-e84a-4b0a-b453-982e98832e15"
      },
      "execution_count": null,
      "outputs": [
        {
          "output_type": "stream",
          "name": "stdout",
          "text": [
            "[[1 1 1 1 1 1 1 1]\n",
            " [1 1 1 1 1 1 1 1]\n",
            " [1 1 1 1 1 1 1 1]]\n",
            "<class 'numpy.ndarray'>\n",
            "2\n",
            "4\n",
            "6\n",
            "8\n",
            "10\n",
            "12\n",
            "14\n",
            "16\n",
            "18\n",
            "20\n",
            "22\n",
            "24\n",
            "26\n",
            "28\n",
            "30\n",
            "32\n",
            "34\n",
            "36\n",
            "38\n",
            "40\n",
            "42\n",
            "44\n",
            "46\n",
            "48\n",
            "1\n",
            "2\n",
            "3\n",
            "4\n",
            "5\n",
            "6\n",
            "7\n",
            "8\n",
            "9\n",
            "10\n",
            "11\n",
            "12\n",
            "13\n",
            "14\n",
            "15\n",
            "16\n",
            "17\n",
            "18\n",
            "19\n",
            "20\n",
            "21\n",
            "22\n",
            "23\n",
            "24\n"
          ]
        }
      ]
    },
    {
      "cell_type": "code",
      "source": [
        "a0=np.array([ [1,2,3,4,5,6,7,8],\n",
        "             [9,10,11,12,13,14,15,16],\n",
        "             [17,18,19,20,21,22,23,24]])\n",
        "\n",
        "for x in np.nditer(a0, flags=['buffered'],op_dtypes=['S']):\n",
        "  print(x)\n",
        "print(a0)\n",
        "print(\"----------------------------------\")\n",
        "print(a0[:,::2])\n",
        "print(\"-----------------------------------\")\n",
        "print(a0[1,3])\n",
        "print(\"---------------------------------------------------------------------------------------\")\n",
        "q=np.shape(a0)\n",
        "q=list(q)\n",
        "\n",
        "print(\"---------------------------------------------------------------------------------------\")\n",
        "\n",
        "for idx , x in np.ndenumerate(a0):\n",
        "  print(a0[idx])\n",
        "  a0[idx]=a0[idx]+1\n",
        "print(a0)\n"
      ],
      "metadata": {
        "colab": {
          "base_uri": "https://localhost:8080/"
        },
        "id": "1RqdZxaAy1fs",
        "outputId": "c190f94e-15f8-41e4-827e-8df0f2e4bf73"
      },
      "execution_count": null,
      "outputs": [
        {
          "output_type": "stream",
          "name": "stdout",
          "text": [
            "b'1'\n",
            "b'2'\n",
            "b'3'\n",
            "b'4'\n",
            "b'5'\n",
            "b'6'\n",
            "b'7'\n",
            "b'8'\n",
            "b'9'\n",
            "b'10'\n",
            "b'11'\n",
            "b'12'\n",
            "b'13'\n",
            "b'14'\n",
            "b'15'\n",
            "b'16'\n",
            "b'17'\n",
            "b'18'\n",
            "b'19'\n",
            "b'20'\n",
            "b'21'\n",
            "b'22'\n",
            "b'23'\n",
            "b'24'\n",
            "[[ 1  2  3  4  5  6  7  8]\n",
            " [ 9 10 11 12 13 14 15 16]\n",
            " [17 18 19 20 21 22 23 24]]\n",
            "----------------------------------\n",
            "[[ 1  3  5  7]\n",
            " [ 9 11 13 15]\n",
            " [17 19 21 23]]\n",
            "-----------------------------------\n",
            "12\n",
            "---------------------------------------------------------------------------------------\n",
            "---------------------------------------------------------------------------------------\n",
            "1\n",
            "2\n",
            "3\n",
            "4\n",
            "5\n",
            "6\n",
            "7\n",
            "8\n",
            "9\n",
            "10\n",
            "11\n",
            "12\n",
            "13\n",
            "14\n",
            "15\n",
            "16\n",
            "17\n",
            "18\n",
            "19\n",
            "20\n",
            "21\n",
            "22\n",
            "23\n",
            "24\n",
            "[[ 2  3  4  5  6  7  8  9]\n",
            " [10 11 12 13 14 15 16 17]\n",
            " [18 19 20 21 22 23 24 25]]\n"
          ]
        }
      ]
    },
    {
      "cell_type": "markdown",
      "source": [
        "# جبر خطی"
      ],
      "metadata": {
        "id": "7hiCIDM-5oCz"
      }
    },
    {
      "cell_type": "code",
      "source": [
        "a0=np.array([ [1,2,3],\n",
        "             [9,10,11],\n",
        "             [17,18,19]])\n",
        "\n",
        "c0=np.trace(a0)\n",
        "c1=np.linalg.matrix_rank(a0)\n",
        "c2=np.linalg.det(a0)\n",
        "c3=np.linalg.eigh(a0)\n",
        "\n",
        "\n",
        "\n",
        "print(c0)\n",
        "print(\"-------------------------------------------------------\")\n",
        "print(c1)\n",
        "print(\"-------------------------------------------------------\")\n",
        "print(c2)\n",
        "print(\"-------------------------------------------------------\")\n",
        "print(c3)\n",
        "print(\"--------------------------------------------------------------------------\")\n",
        "a=np.array([ [1,2],\n",
        "            [3,4]\n",
        "            ])\n",
        "b=np.array(\n",
        "            [8,18]\n",
        ")\n",
        "\n",
        "x=np.linalg.solve(a,b)\n",
        "\n",
        "print(a)\n",
        "print(b)\n",
        "print(x)\n",
        "print(\"--------------------------------------------------------------------------\")\n",
        "\n",
        "# x co-ordinates \n",
        "x = np.arange(0, 9) \n",
        "A = np.array([x, np.ones(9)]) \n",
        "# linearly generated sequence \n",
        "y = [19, 20, 20.5, 21.5, 22, 23, 23, 25.5, 24] \n",
        "# obtaining the parameters of regression line \n",
        "w = np.linalg.lstsq(A.T, y)[0]  \n",
        "# plotting the line \n",
        "line = w[0]*x + w[1] # regression line \n",
        "plt.plot(x, line, 'r-') \n",
        "plt.plot(x, y, 'o') \n",
        "plt.show()"
      ],
      "metadata": {
        "colab": {
          "base_uri": "https://localhost:8080/",
          "height": 580
        },
        "id": "dvMTAR5z5rUd",
        "outputId": "d0f20e86-0b69-42fe-cc64-64789f62625c"
      },
      "execution_count": null,
      "outputs": [
        {
          "output_type": "stream",
          "name": "stdout",
          "text": [
            "30\n",
            "-------------------------------------------------------\n",
            "2\n",
            "-------------------------------------------------------\n",
            "0.0\n",
            "-------------------------------------------------------\n",
            "(array([-9.50716881, -2.37338497, 41.88055378]), array([[ 0.79568733,  0.43427456, -0.42224078],\n",
            "       [ 0.16947943, -0.8288829 , -0.53313212],\n",
            "       [-0.58151388,  0.35264534, -0.73313223]]))\n",
            "--------------------------------------------------------------------------\n",
            "[[1 2]\n",
            " [3 4]]\n",
            "[ 8 18]\n",
            "[2. 3.]\n",
            "--------------------------------------------------------------------------\n"
          ]
        },
        {
          "output_type": "stream",
          "name": "stderr",
          "text": [
            "/usr/local/lib/python3.7/dist-packages/ipykernel_launcher.py:40: FutureWarning: `rcond` parameter will change to the default of machine precision times ``max(M, N)`` where M and N are the input matrix dimensions.\n",
            "To use the future default and silence this warning we advise to pass `rcond=None`, to keep using the old, explicitly pass `rcond=-1`.\n"
          ]
        },
        {
          "output_type": "display_data",
          "data": {
            "image/png": "[encoded data removed]",
            "text/plain": [
              "<Figure size 432x288 with 1 Axes>"
            ]
          },
          "metadata": {
            "needs_background": "light"
          }
        }
      ]
    },
    {
      "cell_type": "code",
      "source": [
        "import matplotlib.pyplot as plot \n",
        "mean=0\n",
        "var=1\n",
        "a=np.random.normal(0,1,(1,20))\n",
        "print(a)\n",
        "count, bins, ignored = plot.hist(a, 30, normed=True) \n",
        "plot.plot(bins, 1/(var * np.sqrt(2 * np.pi)) *\n",
        "          np.exp( - (bins - mean)**2 / (2 * var**2) ), \n",
        "          linewidth=2, color='r') \n",
        "plot.show() "
      ],
      "metadata": {
        "colab": {
          "base_uri": "https://localhost:8080/",
          "height": 699
        },
        "id": "jrk3WWcFE3o1",
        "outputId": "72dc93cf-dc36-40a6-a32e-0a7e2af3aff1"
      },
      "execution_count": null,
      "outputs": [
        {
          "output_type": "stream",
          "name": "stdout",
          "text": [
            "[[-0.02240925 -0.43970114 -0.83594849  0.11508603  0.16062215 -0.63873232\n",
            "  -1.11791389 -0.73096028  0.67007629 -0.20383157  1.98416717 -1.60163485\n",
            "   0.82656949 -0.13640319  0.32885894  0.32693532  0.28335647 -0.64831698\n",
            "   0.47588825  0.91719392]]\n"
          ]
        },
        {
          "output_type": "error",
          "ename": "AttributeError",
          "evalue": "ignored",
          "traceback": [
            "\u001b[0;31m---------------------------------------------------------------------------\u001b[0m",
            "\u001b[0;31mAttributeError\u001b[0m                            Traceback (most recent call last)",
            "\u001b[0;32m<ipython-input-77-0f16c814bdcf>\u001b[0m in \u001b[0;36m<module>\u001b[0;34m()\u001b[0m\n\u001b[1;32m      4\u001b[0m \u001b[0ma\u001b[0m\u001b[0;34m=\u001b[0m\u001b[0mnp\u001b[0m\u001b[0;34m.\u001b[0m\u001b[0mrandom\u001b[0m\u001b[0;34m.\u001b[0m\u001b[0mnormal\u001b[0m\u001b[0;34m(\u001b[0m\u001b[0;36m0\u001b[0m\u001b[0;34m,\u001b[0m\u001b[0;36m1\u001b[0m\u001b[0;34m,\u001b[0m\u001b[0;34m(\u001b[0m\u001b[0;36m1\u001b[0m\u001b[0;34m,\u001b[0m\u001b[0;36m20\u001b[0m\u001b[0;34m)\u001b[0m\u001b[0;34m)\u001b[0m\u001b[0;34m\u001b[0m\u001b[0;34m\u001b[0m\u001b[0m\n\u001b[1;32m      5\u001b[0m \u001b[0mprint\u001b[0m\u001b[0;34m(\u001b[0m\u001b[0ma\u001b[0m\u001b[0;34m)\u001b[0m\u001b[0;34m\u001b[0m\u001b[0;34m\u001b[0m\u001b[0m\n\u001b[0;32m----> 6\u001b[0;31m \u001b[0mcount\u001b[0m\u001b[0;34m,\u001b[0m \u001b[0mbins\u001b[0m\u001b[0;34m,\u001b[0m \u001b[0mignored\u001b[0m \u001b[0;34m=\u001b[0m \u001b[0mplot\u001b[0m\u001b[0;34m.\u001b[0m\u001b[0mhist\u001b[0m\u001b[0;34m(\u001b[0m\u001b[0ma\u001b[0m\u001b[0;34m,\u001b[0m \u001b[0;36m30\u001b[0m\u001b[0;34m,\u001b[0m \u001b[0mnormed\u001b[0m\u001b[0;34m=\u001b[0m\u001b[0;32mTrue\u001b[0m\u001b[0;34m)\u001b[0m\u001b[0;34m\u001b[0m\u001b[0;34m\u001b[0m\u001b[0m\n\u001b[0m\u001b[1;32m      7\u001b[0m plot.plot(bins, 1/(var * np.sqrt(2 * np.pi)) *\n\u001b[1;32m      8\u001b[0m           \u001b[0mnp\u001b[0m\u001b[0;34m.\u001b[0m\u001b[0mexp\u001b[0m\u001b[0;34m(\u001b[0m \u001b[0;34m-\u001b[0m \u001b[0;34m(\u001b[0m\u001b[0mbins\u001b[0m \u001b[0;34m-\u001b[0m \u001b[0mmean\u001b[0m\u001b[0;34m)\u001b[0m\u001b[0;34m**\u001b[0m\u001b[0;36m2\u001b[0m \u001b[0;34m/\u001b[0m \u001b[0;34m(\u001b[0m\u001b[0;36m2\u001b[0m \u001b[0;34m*\u001b[0m \u001b[0mvar\u001b[0m\u001b[0;34m**\u001b[0m\u001b[0;36m2\u001b[0m\u001b[0;34m)\u001b[0m \u001b[0;34m)\u001b[0m\u001b[0;34m,\u001b[0m\u001b[0;34m\u001b[0m\u001b[0;34m\u001b[0m\u001b[0m\n",
            "\u001b[0;32m/usr/local/lib/python3.7/dist-packages/matplotlib/pyplot.py\u001b[0m in \u001b[0;36mhist\u001b[0;34m(x, bins, range, density, weights, cumulative, bottom, histtype, align, orientation, rwidth, log, color, label, stacked, data, **kwargs)\u001b[0m\n\u001b[1;32m   2608\u001b[0m         \u001b[0malign\u001b[0m\u001b[0;34m=\u001b[0m\u001b[0malign\u001b[0m\u001b[0;34m,\u001b[0m \u001b[0morientation\u001b[0m\u001b[0;34m=\u001b[0m\u001b[0morientation\u001b[0m\u001b[0;34m,\u001b[0m \u001b[0mrwidth\u001b[0m\u001b[0;34m=\u001b[0m\u001b[0mrwidth\u001b[0m\u001b[0;34m,\u001b[0m \u001b[0mlog\u001b[0m\u001b[0;34m=\u001b[0m\u001b[0mlog\u001b[0m\u001b[0;34m,\u001b[0m\u001b[0;34m\u001b[0m\u001b[0;34m\u001b[0m\u001b[0m\n\u001b[1;32m   2609\u001b[0m         color=color, label=label, stacked=stacked, **({\"data\": data}\n\u001b[0;32m-> 2610\u001b[0;31m         if data is not None else {}), **kwargs)\n\u001b[0m\u001b[1;32m   2611\u001b[0m \u001b[0;34m\u001b[0m\u001b[0m\n\u001b[1;32m   2612\u001b[0m \u001b[0;34m\u001b[0m\u001b[0m\n",
            "\u001b[0;32m/usr/local/lib/python3.7/dist-packages/matplotlib/__init__.py\u001b[0m in \u001b[0;36minner\u001b[0;34m(ax, data, *args, **kwargs)\u001b[0m\n\u001b[1;32m   1563\u001b[0m     \u001b[0;32mdef\u001b[0m \u001b[0minner\u001b[0m\u001b[0;34m(\u001b[0m\u001b[0max\u001b[0m\u001b[0;34m,\u001b[0m \u001b[0;34m*\u001b[0m\u001b[0margs\u001b[0m\u001b[0;34m,\u001b[0m \u001b[0mdata\u001b[0m\u001b[0;34m=\u001b[0m\u001b[0;32mNone\u001b[0m\u001b[0;34m,\u001b[0m \u001b[0;34m**\u001b[0m\u001b[0mkwargs\u001b[0m\u001b[0;34m)\u001b[0m\u001b[0;34m:\u001b[0m\u001b[0;34m\u001b[0m\u001b[0;34m\u001b[0m\u001b[0m\n\u001b[1;32m   1564\u001b[0m         \u001b[0;32mif\u001b[0m \u001b[0mdata\u001b[0m \u001b[0;32mis\u001b[0m \u001b[0;32mNone\u001b[0m\u001b[0;34m:\u001b[0m\u001b[0;34m\u001b[0m\u001b[0;34m\u001b[0m\u001b[0m\n\u001b[0;32m-> 1565\u001b[0;31m             \u001b[0;32mreturn\u001b[0m \u001b[0mfunc\u001b[0m\u001b[0;34m(\u001b[0m\u001b[0max\u001b[0m\u001b[0;34m,\u001b[0m \u001b[0;34m*\u001b[0m\u001b[0mmap\u001b[0m\u001b[0;34m(\u001b[0m\u001b[0msanitize_sequence\u001b[0m\u001b[0;34m,\u001b[0m \u001b[0margs\u001b[0m\u001b[0;34m)\u001b[0m\u001b[0;34m,\u001b[0m \u001b[0;34m**\u001b[0m\u001b[0mkwargs\u001b[0m\u001b[0;34m)\u001b[0m\u001b[0;34m\u001b[0m\u001b[0;34m\u001b[0m\u001b[0m\n\u001b[0m\u001b[1;32m   1566\u001b[0m \u001b[0;34m\u001b[0m\u001b[0m\n\u001b[1;32m   1567\u001b[0m         \u001b[0mbound\u001b[0m \u001b[0;34m=\u001b[0m \u001b[0mnew_sig\u001b[0m\u001b[0;34m.\u001b[0m\u001b[0mbind\u001b[0m\u001b[0;34m(\u001b[0m\u001b[0max\u001b[0m\u001b[0;34m,\u001b[0m \u001b[0;34m*\u001b[0m\u001b[0margs\u001b[0m\u001b[0;34m,\u001b[0m \u001b[0;34m**\u001b[0m\u001b[0mkwargs\u001b[0m\u001b[0;34m)\u001b[0m\u001b[0;34m\u001b[0m\u001b[0;34m\u001b[0m\u001b[0m\n",
            "\u001b[0;32m/usr/local/lib/python3.7/dist-packages/matplotlib/axes/_axes.py\u001b[0m in \u001b[0;36mhist\u001b[0;34m(self, x, bins, range, density, weights, cumulative, bottom, histtype, align, orientation, rwidth, log, color, label, stacked, **kwargs)\u001b[0m\n\u001b[1;32m   6817\u001b[0m             \u001b[0;32mif\u001b[0m \u001b[0mpatch\u001b[0m\u001b[0;34m:\u001b[0m\u001b[0;34m\u001b[0m\u001b[0;34m\u001b[0m\u001b[0m\n\u001b[1;32m   6818\u001b[0m                 \u001b[0mp\u001b[0m \u001b[0;34m=\u001b[0m \u001b[0mpatch\u001b[0m\u001b[0;34m[\u001b[0m\u001b[0;36m0\u001b[0m\u001b[0;34m]\u001b[0m\u001b[0;34m\u001b[0m\u001b[0;34m\u001b[0m\u001b[0m\n\u001b[0;32m-> 6819\u001b[0;31m                 \u001b[0mp\u001b[0m\u001b[0;34m.\u001b[0m\u001b[0mupdate\u001b[0m\u001b[0;34m(\u001b[0m\u001b[0mkwargs\u001b[0m\u001b[0;34m)\u001b[0m\u001b[0;34m\u001b[0m\u001b[0;34m\u001b[0m\u001b[0m\n\u001b[0m\u001b[1;32m   6820\u001b[0m                 \u001b[0;32mif\u001b[0m \u001b[0mlbl\u001b[0m \u001b[0;32mis\u001b[0m \u001b[0;32mnot\u001b[0m \u001b[0;32mNone\u001b[0m\u001b[0;34m:\u001b[0m\u001b[0;34m\u001b[0m\u001b[0;34m\u001b[0m\u001b[0m\n\u001b[1;32m   6821\u001b[0m                     \u001b[0mp\u001b[0m\u001b[0;34m.\u001b[0m\u001b[0mset_label\u001b[0m\u001b[0;34m(\u001b[0m\u001b[0mlbl\u001b[0m\u001b[0;34m)\u001b[0m\u001b[0;34m\u001b[0m\u001b[0;34m\u001b[0m\u001b[0m\n",
            "\u001b[0;32m/usr/local/lib/python3.7/dist-packages/matplotlib/artist.py\u001b[0m in \u001b[0;36mupdate\u001b[0;34m(self, props)\u001b[0m\n\u001b[1;32m   1004\u001b[0m \u001b[0;34m\u001b[0m\u001b[0m\n\u001b[1;32m   1005\u001b[0m         \u001b[0;32mwith\u001b[0m \u001b[0mcbook\u001b[0m\u001b[0;34m.\u001b[0m\u001b[0m_setattr_cm\u001b[0m\u001b[0;34m(\u001b[0m\u001b[0mself\u001b[0m\u001b[0;34m,\u001b[0m \u001b[0meventson\u001b[0m\u001b[0;34m=\u001b[0m\u001b[0;32mFalse\u001b[0m\u001b[0;34m)\u001b[0m\u001b[0;34m:\u001b[0m\u001b[0;34m\u001b[0m\u001b[0;34m\u001b[0m\u001b[0m\n\u001b[0;32m-> 1006\u001b[0;31m             \u001b[0mret\u001b[0m \u001b[0;34m=\u001b[0m \u001b[0;34m[\u001b[0m\u001b[0m_update_property\u001b[0m\u001b[0;34m(\u001b[0m\u001b[0mself\u001b[0m\u001b[0;34m,\u001b[0m \u001b[0mk\u001b[0m\u001b[0;34m,\u001b[0m \u001b[0mv\u001b[0m\u001b[0;34m)\u001b[0m \u001b[0;32mfor\u001b[0m \u001b[0mk\u001b[0m\u001b[0;34m,\u001b[0m \u001b[0mv\u001b[0m \u001b[0;32min\u001b[0m \u001b[0mprops\u001b[0m\u001b[0;34m.\u001b[0m\u001b[0mitems\u001b[0m\u001b[0;34m(\u001b[0m\u001b[0;34m)\u001b[0m\u001b[0;34m]\u001b[0m\u001b[0;34m\u001b[0m\u001b[0;34m\u001b[0m\u001b[0m\n\u001b[0m\u001b[1;32m   1007\u001b[0m \u001b[0;34m\u001b[0m\u001b[0m\n\u001b[1;32m   1008\u001b[0m         \u001b[0;32mif\u001b[0m \u001b[0mlen\u001b[0m\u001b[0;34m(\u001b[0m\u001b[0mret\u001b[0m\u001b[0;34m)\u001b[0m\u001b[0;34m:\u001b[0m\u001b[0;34m\u001b[0m\u001b[0;34m\u001b[0m\u001b[0m\n",
            "\u001b[0;32m/usr/local/lib/python3.7/dist-packages/matplotlib/artist.py\u001b[0m in \u001b[0;36m<listcomp>\u001b[0;34m(.0)\u001b[0m\n\u001b[1;32m   1004\u001b[0m \u001b[0;34m\u001b[0m\u001b[0m\n\u001b[1;32m   1005\u001b[0m         \u001b[0;32mwith\u001b[0m \u001b[0mcbook\u001b[0m\u001b[0;34m.\u001b[0m\u001b[0m_setattr_cm\u001b[0m\u001b[0;34m(\u001b[0m\u001b[0mself\u001b[0m\u001b[0;34m,\u001b[0m \u001b[0meventson\u001b[0m\u001b[0;34m=\u001b[0m\u001b[0;32mFalse\u001b[0m\u001b[0;34m)\u001b[0m\u001b[0;34m:\u001b[0m\u001b[0;34m\u001b[0m\u001b[0;34m\u001b[0m\u001b[0m\n\u001b[0;32m-> 1006\u001b[0;31m             \u001b[0mret\u001b[0m \u001b[0;34m=\u001b[0m \u001b[0;34m[\u001b[0m\u001b[0m_update_property\u001b[0m\u001b[0;34m(\u001b[0m\u001b[0mself\u001b[0m\u001b[0;34m,\u001b[0m \u001b[0mk\u001b[0m\u001b[0;34m,\u001b[0m \u001b[0mv\u001b[0m\u001b[0;34m)\u001b[0m \u001b[0;32mfor\u001b[0m \u001b[0mk\u001b[0m\u001b[0;34m,\u001b[0m \u001b[0mv\u001b[0m \u001b[0;32min\u001b[0m \u001b[0mprops\u001b[0m\u001b[0;34m.\u001b[0m\u001b[0mitems\u001b[0m\u001b[0;34m(\u001b[0m\u001b[0;34m)\u001b[0m\u001b[0;34m]\u001b[0m\u001b[0;34m\u001b[0m\u001b[0;34m\u001b[0m\u001b[0m\n\u001b[0m\u001b[1;32m   1007\u001b[0m \u001b[0;34m\u001b[0m\u001b[0m\n\u001b[1;32m   1008\u001b[0m         \u001b[0;32mif\u001b[0m \u001b[0mlen\u001b[0m\u001b[0;34m(\u001b[0m\u001b[0mret\u001b[0m\u001b[0;34m)\u001b[0m\u001b[0;34m:\u001b[0m\u001b[0;34m\u001b[0m\u001b[0;34m\u001b[0m\u001b[0m\n",
            "\u001b[0;32m/usr/local/lib/python3.7/dist-packages/matplotlib/artist.py\u001b[0m in \u001b[0;36m_update_property\u001b[0;34m(self, k, v)\u001b[0m\n\u001b[1;32m   1000\u001b[0m                 \u001b[0;32mif\u001b[0m \u001b[0;32mnot\u001b[0m \u001b[0mcallable\u001b[0m\u001b[0;34m(\u001b[0m\u001b[0mfunc\u001b[0m\u001b[0;34m)\u001b[0m\u001b[0;34m:\u001b[0m\u001b[0;34m\u001b[0m\u001b[0;34m\u001b[0m\u001b[0m\n\u001b[1;32m   1001\u001b[0m                     raise AttributeError('{!r} object has no property {!r}'\n\u001b[0;32m-> 1002\u001b[0;31m                                          .format(type(self).__name__, k))\n\u001b[0m\u001b[1;32m   1003\u001b[0m                 \u001b[0;32mreturn\u001b[0m \u001b[0mfunc\u001b[0m\u001b[0;34m(\u001b[0m\u001b[0mv\u001b[0m\u001b[0;34m)\u001b[0m\u001b[0;34m\u001b[0m\u001b[0;34m\u001b[0m\u001b[0m\n\u001b[1;32m   1004\u001b[0m \u001b[0;34m\u001b[0m\u001b[0m\n",
            "\u001b[0;31mAttributeError\u001b[0m: 'Rectangle' object has no property 'normed'"
          ]
        },
        {
          "output_type": "display_data",
          "data": {
            "image/png": "[encoded data removed]",
            "text/plain": [
              "<Figure size 432x288 with 1 Axes>"
            ]
          },
          "metadata": {
            "needs_background": "light"
          }
        }
      ]
    },
    {
      "cell_type": "code",
      "source": [
        "a=numpy.arrange(1,10,1)\n",
        "print(a)"
      ],
      "metadata": {
        "colab": {
          "base_uri": "https://localhost:8080/",
          "height": 184
        },
        "id": "CuA31zA-G_sv",
        "outputId": "c2265634-b633-49ab-d26d-57acdaa4c876"
      },
      "execution_count": null,
      "outputs": [
        {
          "output_type": "error",
          "ename": "NameError",
          "evalue": "ignored",
          "traceback": [
            "\u001b[0;31m---------------------------------------------------------------------------\u001b[0m",
            "\u001b[0;31mNameError\u001b[0m                                 Traceback (most recent call last)",
            "\u001b[0;32m<ipython-input-80-b0a70820a27f>\u001b[0m in \u001b[0;36m<module>\u001b[0;34m()\u001b[0m\n\u001b[0;32m----> 1\u001b[0;31m \u001b[0ma\u001b[0m\u001b[0;34m=\u001b[0m\u001b[0mnumpy\u001b[0m\u001b[0;34m.\u001b[0m\u001b[0marrange\u001b[0m\u001b[0;34m(\u001b[0m\u001b[0;36m1\u001b[0m\u001b[0;34m,\u001b[0m\u001b[0;36m10\u001b[0m\u001b[0;34m,\u001b[0m\u001b[0;36m1\u001b[0m\u001b[0;34m)\u001b[0m\u001b[0;34m\u001b[0m\u001b[0;34m\u001b[0m\u001b[0m\n\u001b[0m\u001b[1;32m      2\u001b[0m \u001b[0mprint\u001b[0m\u001b[0;34m(\u001b[0m\u001b[0ma\u001b[0m\u001b[0;34m)\u001b[0m\u001b[0;34m\u001b[0m\u001b[0;34m\u001b[0m\u001b[0m\n",
            "\u001b[0;31mNameError\u001b[0m: name 'numpy' is not defined"
          ]
        }
      ]
    }
  ]
}